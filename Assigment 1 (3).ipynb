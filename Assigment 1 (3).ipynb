{
 "cells": [
  {
   "cell_type": "code",
   "execution_count": 1,
   "id": "6e93bd0c-a2f2-41fe-bd9f-deb40b919bac",
   "metadata": {},
   "outputs": [],
   "source": [
    "#Q1. who developed python programming language ?"
   ]
  },
  {
   "cell_type": "code",
   "execution_count": null,
   "id": "a1a72144-0eea-4f81-902c-4f6a22444eee",
   "metadata": {},
   "outputs": [],
   "source": [
    "#  Guido van Rossum "
   ]
  },
  {
   "cell_type": "code",
   "execution_count": 24,
   "id": "3f2895ff-8980-4f23-806c-ad34e449f754",
   "metadata": {},
   "outputs": [],
   "source": [
    "#Q2. which typing of programming does python support ?"
   ]
  },
  {
   "cell_type": "code",
   "execution_count": null,
   "id": "a5af742e-43a2-45ae-851d-f23903665163",
   "metadata": {},
   "outputs": [],
   "source": [
    "# python is an interpreted programming language , which support object - oriented , stuctured and functional programming"
   ]
  },
  {
   "cell_type": "code",
   "execution_count": 23,
   "id": "6874b280-57fd-4510-a5ba-289736aa63c2",
   "metadata": {},
   "outputs": [],
   "source": [
    "#Q3. Is python case sensitive when dealinng with identifiers ?"
   ]
  },
  {
   "cell_type": "code",
   "execution_count": null,
   "id": "370b20cb-2d66-4497-af3c-328915d6ae5a",
   "metadata": {},
   "outputs": [],
   "source": [
    " #  yes "
   ]
  },
  {
   "cell_type": "code",
   "execution_count": 22,
   "id": "766912d2-af95-4b97-92f7-f8f48d64053f",
   "metadata": {},
   "outputs": [],
   "source": [
    "#Q4.what is the correct extension of the python file ?"
   ]
  },
  {
   "cell_type": "code",
   "execution_count": null,
   "id": "9de7d024-48c6-49cf-85f7-74f7ccaabd4a",
   "metadata": {},
   "outputs": [],
   "source": [
    "# .py"
   ]
  },
  {
   "cell_type": "code",
   "execution_count": 21,
   "id": "6669da0c-96c4-4aac-9662-90d9e35a9557",
   "metadata": {},
   "outputs": [],
   "source": [
    "#Q5. Is python code compiled or interpreted?"
   ]
  },
  {
   "cell_type": "code",
   "execution_count": null,
   "id": "bad77615-5ab9-481a-98cf-79ca6ec7239b",
   "metadata": {},
   "outputs": [],
   "source": [
    "# Python is both compiled or interpreted "
   ]
  },
  {
   "cell_type": "code",
   "execution_count": 8,
   "id": "03bf4cdc-c6f9-44ab-b397-1eec435ab7da",
   "metadata": {},
   "outputs": [],
   "source": [
    "#Q6. Name a few blocks of code used to define in python language "
   ]
  },
  {
   "cell_type": "code",
   "execution_count": null,
   "id": "f34f942c-4e16-427b-972a-c9a601a14f44",
   "metadata": {},
   "outputs": [],
   "source": [
    "# indentation"
   ]
  },
  {
   "cell_type": "code",
   "execution_count": 10,
   "id": "af0ebb7c-5565-44c4-abe2-bc8d7c997151",
   "metadata": {},
   "outputs": [],
   "source": [
    "#Q7. State a charcter used to give single - line comments in python ?"
   ]
  },
  {
   "cell_type": "code",
   "execution_count": 11,
   "id": "fdd1408f-d19d-4364-8431-92c349c49215",
   "metadata": {},
   "outputs": [],
   "source": [
    "#"
   ]
  },
  {
   "cell_type": "code",
   "execution_count": 12,
   "id": "0eaea449-4901-45b4-9356-be209981ea45",
   "metadata": {},
   "outputs": [],
   "source": [
    "#Q8. Mention function which can help us to find the version of python that we are currently work on ?"
   ]
  },
  {
   "cell_type": "code",
   "execution_count": null,
   "id": "9b1b2432-f84f-4169-9065-6907813d181a",
   "metadata": {},
   "outputs": [],
   "source": [
    "# sys.version"
   ]
  },
  {
   "cell_type": "code",
   "execution_count": 1,
   "id": "a53e7d35-a8ab-433d-a32f-d196c9cb3852",
   "metadata": {},
   "outputs": [],
   "source": [
    "#Q9. Python supports the creation of anonymous function at runtime , using a construct called  ......."
   ]
  },
  {
   "cell_type": "code",
   "execution_count": null,
   "id": "09d1a59d-c7c2-422a-8428-8240ee7a8a49",
   "metadata": {},
   "outputs": [],
   "source": [
    " # lambda"
   ]
  },
  {
   "cell_type": "code",
   "execution_count": 16,
   "id": "0fb8ddfa-302b-4b75-8274-0dc3e7dda8fe",
   "metadata": {},
   "outputs": [],
   "source": [
    "#Q10. what does plp stand for python ?"
   ]
  },
  {
   "cell_type": "code",
   "execution_count": null,
   "id": "d0be7e17-9780-460d-8f94-c87ed1ad5e10",
   "metadata": {},
   "outputs": [],
   "source": [
    "# preferred installer program"
   ]
  },
  {
   "cell_type": "code",
   "execution_count": 18,
   "id": "2ca11aba-e257-48ae-83b2-ec9aed3de55f",
   "metadata": {},
   "outputs": [],
   "source": [
    "#Q11. Mention a few build - in functions in python ?"
   ]
  },
  {
   "cell_type": "code",
   "execution_count": null,
   "id": "58cc6ce5-0892-4878-ae95-ebe4bd4ec53b",
   "metadata": {},
   "outputs": [],
   "source": [
    "# print()"
   ]
  },
  {
   "cell_type": "code",
   "execution_count": 20,
   "id": "79b04678-4f25-42d9-b444-c2dc93bbbbe1",
   "metadata": {},
   "outputs": [],
   "source": [
    "#Q12. what is the maximum possible lenght of an identifier in python ?"
   ]
  },
  {
   "cell_type": "code",
   "execution_count": null,
   "id": "7c2f34df-c362-47fb-9842-c1fb240f29b8",
   "metadata": {},
   "outputs": [],
   "source": [
    "# identifiers can be of any lenght"
   ]
  },
  {
   "cell_type": "code",
   "execution_count": 25,
   "id": "80e50a2d-9470-4111-9cbe-727a168a7837",
   "metadata": {},
   "outputs": [],
   "source": [
    "#Q13. what are the benefits of using python ?"
   ]
  },
  {
   "cell_type": "code",
   "execution_count": null,
   "id": "2a1abf9f-8906-4238-b40a-b96047f6b83c",
   "metadata": {},
   "outputs": [],
   "source": [
    "#there are a plethora of benefits to developing softwere in the python programming language , we will highlight the major benefits below , with a brief explanation of the advantage of choosing python for each one ."
   ]
  },
  {
   "cell_type": "code",
   "execution_count": 26,
   "id": "06cd55d4-a51f-4384-b4c2-e8d803ff22ce",
   "metadata": {},
   "outputs": [],
   "source": [
    "#Q14. How is memory managed in python ?"
   ]
  },
  {
   "cell_type": "code",
   "execution_count": null,
   "id": "7c23e8ac-4dc1-48e9-9bf8-661c1a0ecf3a",
   "metadata": {},
   "outputs": [],
   "source": [
    "# Memory managment is python involve a private heap containing all python objects and data structures . The managment of this private heap is ensured internally by the python memory manager "
   ]
  },
  {
   "cell_type": "code",
   "execution_count": 27,
   "id": "2131cb6d-8fd7-48eb-a980-1d9d59651a06",
   "metadata": {},
   "outputs": [],
   "source": [
    "#Q15. How to install python on window and set path variable ?"
   ]
  },
  {
   "cell_type": "code",
   "execution_count": null,
   "id": "280617e4-c27c-4f3f-94aa-0a192cead19a",
   "metadata": {},
   "outputs": [],
   "source": [
    "# step to install python on window :\n",
    "#1.Right clicking this PC and going to properties .\n",
    " #   2.Clicking on the advanced system settings in the menu on the left .\n",
    " #  3. Clicking on the environment variables buttom on the bottom right .\n",
    "  # 4. In the system variable section , selecting the path variable and clicking on edit . The next screen will\n",
    "  # show all directories that are currently a part of the path variable .\n",
    "   # 5. Clicking on new and entering python install directory .\n",
    "    "
   ]
  },
  {
   "cell_type": "code",
   "execution_count": 29,
   "id": "1c260e00-4125-4059-abdc-e9e26c8f742d",
   "metadata": {},
   "outputs": [],
   "source": [
    "#Q16. Is indention required in python"
   ]
  },
  {
   "cell_type": "code",
   "execution_count": null,
   "id": "2354f47d-fa3f-4af0-ae8c-99d7dd95216d",
   "metadata": {},
   "outputs": [],
   "source": [
    "# yes , indention required in python "
   ]
  }
 ],
 "metadata": {
  "kernelspec": {
   "display_name": "Python 3 (ipykernel)",
   "language": "python",
   "name": "python3"
  },
  "language_info": {
   "codemirror_mode": {
    "name": "ipython",
    "version": 3
   },
   "file_extension": ".py",
   "mimetype": "text/x-python",
   "name": "python",
   "nbconvert_exporter": "python",
   "pygments_lexer": "ipython3",
   "version": "3.10.8"
  }
 },
 "nbformat": 4,
 "nbformat_minor": 5
}
